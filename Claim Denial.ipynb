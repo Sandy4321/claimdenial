{
 "cells": [
  {
   "cell_type": "markdown",
   "metadata": {},
   "source": [
    "# Predict Insurance Claim Denial"
   ]
  },
  {
   "cell_type": "markdown",
   "metadata": {},
   "source": [
    "- We are interested in an analytic and/or predictive model to predict claims that would be denied with the following Denial.Reason.Code: F13, J8G, JO5, JB8, JE1, JC9, JF1, JF9, JG1, JPA and JES.\n",
    "- Feel free to use any language (e.g. R, Python). Please send us the code and a brief write up of your findings (e.g. on the sensitivity and specificity of the algorithm)."
   ]
  },
  {
   "cell_type": "markdown",
   "metadata": {},
   "source": [
    "# Import pandas, sklearn, numpy and matplotlib"
   ]
  },
  {
   "cell_type": "code",
   "execution_count": 22,
   "metadata": {
    "collapsed": true
   },
   "outputs": [],
   "source": [
    "import matplotlib.pyplot as plt\n",
    "import numpy as np\n",
    "import pandas as pd\n",
    "import statsmodels.api as sm\n",
    "from scipy.stats import sem\n",
    "from statsmodels.nonparametric.kde import KDEUnivariate\n",
    "from statsmodels.nonparametric import smoothers_lowess\n",
    "from pandas import Series, DataFrame\n",
    "from patsy import dmatrices\n",
    "from sklearn import preprocessing\n",
    "from sklearn import linear_model\n",
    "from sklearn import svm\n",
    "from sklearn import naive_bayes\n",
    "from sklearn import ensemble\n",
    "from sklearn import neighbors\n",
    "from sklearn import metrics\n",
    "from sklearn import learning_curve\n",
    "from sklearn import cross_validation\n",
    "from sklearn import grid_search\n",
    "from sklearn import kernel_approximation\n",
    "from sklearn import feature_selection\n",
    "from scipy.stats import randint as sp_randint\n",
    "from IPython import embed\n",
    "import seaborn\n",
    "%matplotlib inline "
   ]
  },
  {
   "cell_type": "markdown",
   "metadata": {},
   "source": [
    "# Helper functions"
   ]
  },
  {
   "cell_type": "markdown",
   "metadata": {},
   "source": [
    "- helper functions used to visualize data and plot error curves"
   ]
  },
  {
   "cell_type": "code",
   "execution_count": 96,
   "metadata": {
    "collapsed": true
   },
   "outputs": [],
   "source": [
    "# HELPER FUNCTION DEFINITIONS\n",
    "def confusion_matrix(y_true, y_pred):\n",
    "  confusion_matrix = metrics.confusion_matrix(y_true, y_pred)\n",
    "  plt.matshow(confusion_matrix)\n",
    "  plt.ylabel('True label')\n",
    "  plt.xlabel('Predicted label')\n",
    "  plt.colorbar()\n",
    "  plt.show()\n",
    "\n",
    "\n",
    "def roc_curve(model, X_test, y_test):\n",
    "  preds_proba = model.predict_proba(X_test)[:, 1]\n",
    "  fpr, tpr, thresholds = metrics.roc_curve(y_test, preds_proba)\n",
    "  roc_auc = metrics.auc(fpr, tpr)\n",
    "  plt.plot([0, 1], [0, 1], '--', color=(0.6, 0.6, 0.6), label='Luck')\n",
    "  plt.plot(fpr, tpr, 'k--', label='ROC (area = %0.2f)' % roc_auc, lw=2)\n",
    "  plt.xlim([-0.05, 1.05])\n",
    "  plt.ylim([-0.05, 1.05])\n",
    "  plt.xlabel('False Positive Rate=1-specificity')\n",
    "  plt.ylabel('True Positive Rate/Recall/Sensitivity')\n",
    "  plt.title('Receiver operating characteristic example')\n",
    "  plt.legend(loc=\"lower right\")\n",
    "\n",
    "\n",
    "def precision_recall_curve(model, X_test, y_test):\n",
    "  score = model.decision_function(X_test)\n",
    "  precision, recall, _ = metrics.precision_recall_curve(y_test, score)\n",
    "  plt.plot(recall, precision, label='Precision-Recall curve')\n",
    "  plt.xlim([0.0, 1.0])\n",
    "  plt.ylim([0.0, 1.05])\n",
    "  plt.xlabel('Recall/Sensitivity')\n",
    "  plt.ylabel('Precision')\n",
    "  plt.title('Precision-Recall curve')\n",
    "  plt.legend(loc=\"lower right\")\n",
    "\n",
    "\n",
    "def learning_curves(X_train, y_train, model, scoring='accuracy', cv=5):\n",
    "  plt.figure()\n",
    "  plt.title(\"Learning curve\")\n",
    "  plt.xlabel(\"Number of training examples\")\n",
    "  plt.ylabel(\"scores\")\n",
    "  train_sizes, train_scores, test_scores = learning_curve.learning_curve(model, X_train, y_train, scoring=scoring, cv=cv, verbose=1)\n",
    "  train_scores_mean = np.mean(train_scores, axis=1)\n",
    "  train_scores_std = np.std(train_scores, axis=1)\n",
    "  test_scores_mean = np.mean(test_scores, axis=1)\n",
    "  test_scores_std = np.std(test_scores, axis=1)\n",
    "  plt.plot(train_sizes, train_scores_mean, 'o-', label=\"Training score\", color=\"r\")\n",
    "  plt.fill_between(train_sizes, train_scores_mean - train_scores_std, train_scores_mean + train_scores_std, alpha=0.2, color=\"r\")\n",
    "  plt.plot(train_sizes, test_scores_mean, 'o-', label=\"Cross-validation score\", color=\"g\")\n",
    "  plt.fill_between(train_sizes, test_scores_mean - test_scores_std, test_scores_mean + test_scores_std, alpha=0.2, color=\"g\")\n",
    "  plt.legend(loc=\"best\")\n",
    "  plt.autoscale(tight=True)\n",
    "  plt.show()\n",
    "\n",
    "    \n",
    "def model_selection(X_train, X_test, y_train, y_test, parameters, clf, scoring=None, cv=3):\n",
    "  clf_grid = grid_search.RandomizedSearchCV(clf, parameters, verbose=1, scoring=scoring, cv=cv, n_jobs=-1)\n",
    "  # clf_grid = grid_search.GridSearch(clf, parameters, verbose=1, scoring=scoring, cv=cv, n_jobs=-1)\n",
    "  clf_grid.fit(X_train, y_train)\n",
    "  print \"------------------------------------------------------------------------\"\n",
    "  print \"best parameters:\"\n",
    "  print clf_grid.best_params_\n",
    "  print \"best score:\"\n",
    "  print clf_grid.best_score_\n",
    "  print \"------------------------------------------------------------------------\"\n",
    "  print(\"Best parameters set found on training set:\")\n",
    "  print(clf_grid.best_estimator_)\n",
    "  print \"------------------------------------------------------------------------\"\n",
    "  print(\"Grid scores on training set:\")\n",
    "  for params, mean_score, scores in clf_grid.grid_scores_:\n",
    "    print(\"%0.3f (+/-%0.03f) for %r\" % (mean_score, scores.std() / 2, params))\n",
    "  print \"------------------------------------------------------------------------\"\n",
    "  print(\"Detailed classification report for test:\")\n",
    "  y_true, y_pred = y_test, clf_grid.predict(X_test)\n",
    "  print(metrics.classification_report(y_true, y_pred))\n",
    "  return clf_grid\n",
    "\n",
    "\n",
    "def feature_importance(model, top=25):\n",
    "  feature_importance = model.feature_importances_\n",
    "  # Normalize The Features\n",
    "  feature_importance = 100.0 * (feature_importance / feature_importance.max())\n",
    "  sorted_idx = np.argsort(feature_importance)\n",
    "  pos = np.arange(sorted_idx.shape[0]) + .5\n",
    "  # plt.figure(figsize=(16, 12))\n",
    "  plt.barh(pos[-top:], feature_importance[sorted_idx[-top:]], align='center', color='#7A68A6')\n",
    "  # plt.yticks(pos, np.asanyarray(df.columns.tolist())[sorted_idx])\n",
    "  plt.yticks(pos[-top:], sorted_idx[-top:])\n",
    "  plt.xlabel('Relative Importance')\n",
    "  plt.ylabel('Feature Column Number')\n",
    "  plt.title('Feature Importance')\n",
    "  plt.show()"
   ]
  },
  {
   "cell_type": "markdown",
   "metadata": {},
   "source": [
    "# Data import and transform"
   ]
  },
  {
   "cell_type": "markdown",
   "metadata": {},
   "source": [
    "- Replace empty cells by NaN code, drop duplicates and keep only rows with actual denial code"
   ]
  },
  {
   "cell_type": "code",
   "execution_count": 139,
   "metadata": {
    "collapsed": true
   },
   "outputs": [],
   "source": [
    "# READ DATA replace empty cells by nan\n",
    "df = pd.read_csv(\"claim.sample.csv\", index_col=0, na_values=[\" \"], low_memory=False)"
   ]
  },
  {
   "cell_type": "code",
   "execution_count": 140,
   "metadata": {
    "collapsed": false
   },
   "outputs": [
    {
     "data": {
      "text/plain": [
       "(146529, 28)"
      ]
     },
     "execution_count": 140,
     "metadata": {},
     "output_type": "execute_result"
    }
   ],
   "source": [
    "df = df.drop_duplicates()\n",
    "# keep only rows where we actually have a denial code\n",
    "df = df[df['Denial.Reason.Code'].notnull()]\n",
    "df.shape"
   ]
  },
  {
   "cell_type": "markdown",
   "metadata": {},
   "source": [
    "- 146529 total cases left and 28 features"
   ]
  },
  {
   "cell_type": "markdown",
   "metadata": {},
   "source": [
    "# Feature Engineering"
   ]
  },
  {
   "cell_type": "markdown",
   "metadata": {},
   "source": [
    "- we separate features by type\n",
    "- encode categorical features with type \"category\"\n",
    "- code denial reason code into binary variable YES (denied) and NO (approved)\n",
    "- check the number of categories for each category/feature"
   ]
  },
  {
   "cell_type": "code",
   "execution_count": 141,
   "metadata": {
    "collapsed": false
   },
   "outputs": [
    {
     "data": {
      "text/plain": [
       "28"
      ]
     },
     "execution_count": 141,
     "metadata": {},
     "output_type": "execute_result"
    }
   ],
   "source": [
    "# Separate Features by type\n",
    "categorical = [\n",
    "    u'Claim.Line.Number', u'Provider.ID',\n",
    "    u'Line.Of.Business.ID', u'Revenue.Code', u'Service.Code',\n",
    "    u'Place.Of.Service.Code',\n",
    "    u'Price.Index',\n",
    "    u'In.Out.Of.Network', u'Reference.Index', u'Pricing.Index',\n",
    "    u'Capitation.Index',\n",
    "    u'Claim.Type', u'Claim.Subscriber.Type',\n",
    "    u'Claim.Pre.Prince.Index', u'Claim.Current.Status', u'Network.ID',\n",
    "    u'Agreement.ID']\n",
    "indices = [u'Claim.Number', u'Group.Index', u'Subscriber.Index', u'Subgroup.Index']\n",
    "continuous = [u'Claim.Charge.Amount', u'Subscriber.Payment.Amount', u'Provider.Payment.Amount']\n",
    "medical_idx = [u'Procedure.Code', u'Diagnosis.Code']\n",
    "denial = [u'Denial.Reason.Code']\n",
    "user_id = [u'Member.ID']\n",
    "\n",
    "categorical_2 = [\n",
    "    u'Claim.Line.Number', u'Provider.ID',\n",
    "    u'Line.Of.Business.ID', u'Revenue.Code', u'Service.Code',\n",
    "    u'In.Out.Of.Network', u'Reference.Index', u'Pricing.Index',\n",
    "    u'Claim.Type', u'Claim.Subscriber.Type',\n",
    "    u'Claim.Current.Status', u'Network.ID',\n",
    "    u'Agreement.ID']\n",
    "\n",
    "len(categorical)+len(indices)+len(continuous)+len(medical_idx)+len(denial)+len(user_id)"
   ]
  },
  {
   "cell_type": "code",
   "execution_count": 157,
   "metadata": {
    "collapsed": false
   },
   "outputs": [
    {
     "name": "stdout",
     "output_type": "stream",
     "text": [
      "---- Claim.Line.Number\n",
      "count     146529\n",
      "unique       135\n",
      "top            1\n",
      "freq       30477\n",
      "Name: Claim.Line.Number, dtype: int64\n",
      "---- Provider.ID\n",
      "count           146529\n",
      "unique              26\n",
      "top       FA0001411001\n",
      "freq             42856\n",
      "Name: Provider.ID, dtype: object\n",
      "---- Line.Of.Business.ID\n",
      "count     144700\n",
      "unique         5\n",
      "top            1\n",
      "freq       72859\n",
      "Name: Line.Of.Business.ID, dtype: float64\n",
      "---- Revenue.Code\n",
      "count     146473\n",
      "unique       160\n",
      "top         0301\n",
      "freq       16764\n",
      "Name: Revenue.Code, dtype: object\n",
      "---- Service.Code\n",
      "count     146529\n",
      "unique       112\n",
      "top         LA7O\n",
      "freq       32571\n",
      "Name: Service.Code, dtype: object\n",
      "---- Place.Of.Service.Code\n",
      "count     56\n",
      "unique     2\n",
      "top       11\n",
      "freq      43\n",
      "Name: Place.Of.Service.Code, dtype: float64\n",
      "---- Price.Index\n",
      "count     127502\n",
      "unique         2\n",
      "top            A\n",
      "freq      124635\n",
      "Name: Price.Index, dtype: object\n",
      "---- In.Out.Of.Network\n",
      "count     143781\n",
      "unique         2\n",
      "top            I\n",
      "freq      141717\n",
      "Name: In.Out.Of.Network, dtype: object\n",
      "---- Reference.Index\n",
      "count     146529\n",
      "unique         3\n",
      "top            N\n",
      "freq       88166\n",
      "Name: Reference.Index, dtype: object\n",
      "---- Pricing.Index\n",
      "count     146529\n",
      "unique         4\n",
      "top            N\n",
      "freq      135203\n",
      "Name: Pricing.Index, dtype: object\n",
      "---- Capitation.Index\n",
      "count     81476\n",
      "unique        2\n",
      "top           N\n",
      "freq      78438\n",
      "Name: Capitation.Index, dtype: object\n",
      "---- Claim.Type\n",
      "count     146529\n",
      "unique         2\n",
      "top            M\n",
      "freq      137764\n",
      "Name: Claim.Type, dtype: object\n",
      "---- Claim.Subscriber.Type\n",
      "count     146529\n",
      "unique         2\n",
      "top            H\n",
      "freq      146473\n",
      "Name: Claim.Subscriber.Type, dtype: object\n",
      "---- Claim.Pre.Prince.Index\n",
      "count     54006\n",
      "unique        2\n",
      "top           S\n",
      "freq      52936\n",
      "Name: Claim.Pre.Prince.Index, dtype: object\n",
      "---- Claim.Current.Status\n",
      "count     146529\n",
      "unique         7\n",
      "top            2\n",
      "freq      120620\n",
      "Name: Claim.Current.Status, dtype: int64\n",
      "---- Network.ID\n",
      "count           142402\n",
      "unique              15\n",
      "top       P00000000007\n",
      "freq             59806\n",
      "Name: Network.ID, dtype: object\n",
      "---- Agreement.ID\n",
      "count           144447\n",
      "unique              28\n",
      "top       FH001311QB01\n",
      "freq             24830\n",
      "Name: Agreement.ID, dtype: object\n",
      "---- Procedure.Code\n",
      "count     118176\n",
      "unique      2917\n",
      "top        36415\n",
      "freq        4112\n",
      "Name: Procedure.Code, dtype: object\n",
      "---- Diagnosis.Code\n",
      "count     146529\n",
      "unique      2501\n",
      "top         V571\n",
      "freq        6250\n",
      "Name: Diagnosis.Code, dtype: object\n",
      "---- Claim.Number\n",
      "count       146529\n",
      "unique       33152\n",
      "top       37093690\n",
      "freq           131\n",
      "Name: Claim.Number, dtype: float64\n",
      "---- Group.Index\n",
      "count     146529\n",
      "unique      1280\n",
      "top          114\n",
      "freq       54006\n",
      "Name: Group.Index, dtype: int64\n",
      "---- Subscriber.Index\n",
      "count       146529\n",
      "unique       10996\n",
      "top       17723800\n",
      "freq           750\n",
      "Name: Subscriber.Index, dtype: int64\n",
      "---- Subgroup.Index\n",
      "count     146529\n",
      "unique      1287\n",
      "top            0\n",
      "freq      129557\n",
      "Name: Subgroup.Index, dtype: int64\n",
      "---- Member.ID\n"
     ]
    },
    {
     "data": {
      "text/plain": [
       "count       146529\n",
       "unique       11799\n",
       "top       21880031\n",
       "freq           750\n",
       "Name: Member.ID, dtype: int64"
      ]
     },
     "execution_count": 157,
     "metadata": {},
     "output_type": "execute_result"
    }
   ],
   "source": [
    "# encode features into factor variables and check number of category per feature\n",
    "for col in df[categorical]:\n",
    "    df[col] = df[col].astype('category')\n",
    "    print \"---- \"+ col\n",
    "    print df[col].describe()\n",
    "\n",
    "for col in df[medical_idx]:\n",
    "    df[col] = df[col].astype('category')\n",
    "    print \"---- \"+ col\n",
    "    print df[col].describe()\n",
    "\n",
    "for col in df[denial]:\n",
    "    df[col] = df[col].astype('category')\n",
    "\n",
    "for col in df[indices]:\n",
    "    df[col] = df[col].astype('category')\n",
    "    print \"---- \"+ col\n",
    "    print df[col].describe()\n",
    "\n",
    "df['Member.ID'] = df['Member.ID'].astype('category')\n",
    "print \"---- Member.ID\"\n",
    "df['Member.ID'].describe()"
   ]
  },
  {
   "cell_type": "code",
   "execution_count": null,
   "metadata": {
    "collapsed": false
   },
   "outputs": [],
   "source": []
  },
  {
   "cell_type": "code",
   "execution_count": 159,
   "metadata": {
    "collapsed": true
   },
   "outputs": [],
   "source": [
    "# transform denial target codes to binary\n",
    "denial = [\"F13\", \"J8G\", \"JO5\", \"JB8\", \"JE1\", \"JC9\", \"JF1\", \"JF9\", \"JG1\", \"JPA\", \"JES\"]\n",
    "target = []\n",
    "for row in df['Denial.Reason.Code']:\n",
    "    if row in denial:\n",
    "        target.append('YES')\n",
    "    else:\n",
    "        target.append('NO')\n",
    "df['target'] = target"
   ]
  },
  {
   "cell_type": "markdown",
   "metadata": {},
   "source": [
    "# Descriptive Analysis"
   ]
  },
  {
   "cell_type": "markdown",
   "metadata": {},
   "source": [
    "A pie plot of the data shows that the dataset is highly unbalanced with **1.3% of denial**"
   ]
  },
  {
   "cell_type": "code",
   "execution_count": 160,
   "metadata": {
    "collapsed": false
   },
   "outputs": [
    {
     "name": "stdout",
     "output_type": "stream",
     "text": [
      "NO     144558\n",
      "YES      1971\n",
      "Name: target, dtype: int64\n",
      "% of denial:  0.0134512622075\n"
     ]
    },
    {
     "data": {
      "image/png": "[encoded data removed]",
      "text/plain": [
       "<matplotlib.figure.Figure at 0x11777a650>"
      ]
     },
     "metadata": {},
     "output_type": "display_data"
    }
   ],
   "source": [
    "print df['target'].value_counts()\n",
    "df['target'].value_counts().plot(kind='pie')\n",
    "print \"% of denial: \", 1971./(1971+144558)"
   ]
  },
  {
   "cell_type": "markdown",
   "metadata": {},
   "source": [
    "# Multicollinearity"
   ]
  },
  {
   "cell_type": "code",
   "execution_count": 9,
   "metadata": {
    "collapsed": false
   },
   "outputs": [],
   "source": [
    "from sklearn.cross_decomposition import PLSCanonical, PLSRegression, CCA\n",
    "plsca = PLSCanonical(n_components=2)\n",
    "# plsca.fit(X, y)\n",
    "# X_train_r, Y_train_r = plsca.transform(X, y)"
   ]
  },
  {
   "cell_type": "markdown",
   "metadata": {},
   "source": [
    "# Correlation of Continuous Features"
   ]
  },
  {
   "cell_type": "markdown",
   "metadata": {},
   "source": [
    "- The continuous features claim.charge.amount and provider.payment.amount are correlated (r~0.54), which makes sense"
   ]
  },
  {
   "cell_type": "code",
   "execution_count": 68,
   "metadata": {
    "collapsed": false
   },
   "outputs": [
    {
     "name": "stdout",
     "output_type": "stream",
     "text": [
      "                           Claim.Charge.Amount  Subscriber.Payment.Amount  \\\n",
      "Claim.Charge.Amount                   1.000000                   0.006007   \n",
      "Subscriber.Payment.Amount             0.006007                   1.000000   \n",
      "Provider.Payment.Amount               0.536622                   0.001362   \n",
      "\n",
      "                           Provider.Payment.Amount  \n",
      "Claim.Charge.Amount                       0.536622  \n",
      "Subscriber.Payment.Amount                 0.001362  \n",
      "Provider.Payment.Amount                   1.000000  \n"
     ]
    },
    {
     "data": {
      "image/png": "[encoded data removed]",
      "text/plain": [
       "<matplotlib.figure.Figure at 0x11669c610>"
      ]
     },
     "metadata": {},
     "output_type": "display_data"
    }
   ],
   "source": [
    "plt.imshow(abs(df[continuous].corr()) , interpolation='nearest')\n",
    "ax = plt.axes()\n",
    "plt.colorbar()\n",
    "#ax.set_xticks(range(len(df.corr().columns)))\n",
    "ax.set_xticks(range(len(df.columns)))\n",
    "ax.set_xticklabels(df[continuous].columns, rotation=90)\n",
    "ax.set_yticks(range(len(df.columns)))\n",
    "ax.set_yticklabels(df[continuous].columns)\n",
    "plt.plot()\n",
    "print abs(df[continuous].corr())"
   ]
  },
  {
   "cell_type": "markdown",
   "metadata": {},
   "source": [
    "# Percentage of null values per type of feature"
   ]
  },
  {
   "cell_type": "markdown",
   "metadata": {},
   "source": [
    "- place.of.service.code feature has consistently 99% NaN accross classes so we can get rid of it\n",
    "- price.index, capitation.index, claim.pre.prince.index have also >15% NaN"
   ]
  },
  {
   "cell_type": "code",
   "execution_count": 122,
   "metadata": {
    "collapsed": false
   },
   "outputs": [],
   "source": [
    "denials = df[df.target=='YES']\n",
    "approvals = df[df.target=='NO']"
   ]
  },
  {
   "cell_type": "code",
   "execution_count": 125,
   "metadata": {
    "collapsed": false
   },
   "outputs": [
    {
     "name": "stdout",
     "output_type": "stream",
     "text": [
      "---- denials\n",
      "Claim.Line.Number         0.000000\n",
      "Provider.ID               0.000000\n",
      "Line.Of.Business.ID       0.000000\n",
      "Revenue.Code              0.010147\n",
      "Service.Code              0.000000\n",
      "Place.Of.Service.Code     0.989853\n",
      "Price.Index               0.257737\n",
      "In.Out.Of.Network         0.000000\n",
      "Reference.Index           0.000000\n",
      "Pricing.Index             0.000000\n",
      "Capitation.Index          0.174531\n",
      "Claim.Type                0.000000\n",
      "Claim.Subscriber.Type     0.000000\n",
      "Claim.Pre.Prince.Index    0.825469\n",
      "Claim.Current.Status      0.000000\n",
      "Network.ID                0.021309\n",
      "Agreement.ID              0.000000\n",
      "dtype: float64\n",
      "---- approvals\n",
      "Claim.Line.Number         0.000000\n",
      "Provider.ID               0.000000\n",
      "Line.Of.Business.ID       0.012652\n",
      "Revenue.Code              0.000249\n",
      "Service.Code              0.000000\n",
      "Place.Of.Service.Code     0.999751\n",
      "Price.Index               0.128108\n",
      "In.Out.Of.Network         0.019010\n",
      "Reference.Index           0.000000\n",
      "Pricing.Index             0.000000\n",
      "Capitation.Index          0.447633\n",
      "Claim.Type                0.000000\n",
      "Claim.Subscriber.Type     0.000000\n",
      "Claim.Pre.Prince.Index    0.628786\n",
      "Claim.Current.Status      0.000000\n",
      "Network.ID                0.028259\n",
      "Agreement.ID              0.014403\n",
      "dtype: float64\n"
     ]
    }
   ],
   "source": [
    "X = denials[categorical]\n",
    "print \"---- denials\"\n",
    "print 1-(X.count()/X.shape[0])\n",
    "X = approvals[categorical]\n",
    "print \"---- approvals\"\n",
    "print 1-(X.count()/X.shape[0])"
   ]
  },
  {
   "cell_type": "code",
   "execution_count": 126,
   "metadata": {
    "collapsed": false
   },
   "outputs": [
    {
     "name": "stdout",
     "output_type": "stream",
     "text": [
      "---- denials\n",
      "Procedure.Code    0.335363\n",
      "Diagnosis.Code    0.000000\n",
      "dtype: float64\n",
      "---- approvals\n",
      "Procedure.Code    0.191563\n",
      "Diagnosis.Code    0.000000\n",
      "dtype: float64\n"
     ]
    }
   ],
   "source": [
    "X = denials[medical_idx]\n",
    "print \"---- denials\"\n",
    "print 1-(X.count()/X.shape[0])\n",
    "X = approvals[medical_idx]\n",
    "print \"---- approvals\"\n",
    "print 1-(X.count()/X.shape[0])"
   ]
  },
  {
   "cell_type": "code",
   "execution_count": null,
   "metadata": {
    "collapsed": false
   },
   "outputs": [],
   "source": []
  },
  {
   "cell_type": "code",
   "execution_count": null,
   "metadata": {
    "collapsed": true
   },
   "outputs": [],
   "source": []
  },
  {
   "cell_type": "markdown",
   "metadata": {},
   "source": [
    "# Encode features and target"
   ]
  },
  {
   "cell_type": "code",
   "execution_count": 162,
   "metadata": {
    "collapsed": false
   },
   "outputs": [
    {
     "name": "stdout",
     "output_type": "stream",
     "text": [
      "(146529, 22)\n",
      "(146529, 193504)\n",
      "['NO' 'YES']\n"
     ]
    }
   ],
   "source": [
    "# X = df[categorical+indices+medical_idx+user_id+continuous]\n",
    "# X = df[categorical+medical_idx+user_id+continuous]\n",
    "X = df[categorical+medical_idx+continuous]\n",
    "print X.shape\n",
    "\n",
    "# Encode features\n",
    "feature_le = preprocessing.LabelEncoder()\n",
    "X = X.apply(feature_le.fit_transform)\n",
    "\n",
    "ohe = preprocessing.OneHotEncoder()\n",
    "ohe.fit(X)\n",
    "X = ohe.transform(X)\n",
    "print X.shape\n",
    "# Encode binary target\n",
    "target_le = preprocessing.LabelEncoder()\n",
    "target_le.fit(df.target)\n",
    "print target_le.classes_\n",
    "y = target_le.transform(target)"
   ]
  },
  {
   "cell_type": "markdown",
   "metadata": {},
   "source": [
    "# Correlations"
   ]
  },
  {
   "cell_type": "code",
   "execution_count": 12,
   "metadata": {
    "collapsed": false
   },
   "outputs": [],
   "source": [
    "# corr_ = np.corrcoef(X.todense())"
   ]
  },
  {
   "cell_type": "markdown",
   "metadata": {},
   "source": [
    "# Split data into train and test sets"
   ]
  },
  {
   "cell_type": "code",
   "execution_count": 163,
   "metadata": {
    "collapsed": false
   },
   "outputs": [],
   "source": [
    "X_train, X_test, y_train, y_test = cross_validation.train_test_split(X, y, test_size=.20)"
   ]
  },
  {
   "cell_type": "markdown",
   "metadata": {},
   "source": [
    "# Models"
   ]
  },
  {
   "cell_type": "code",
   "execution_count": 164,
   "metadata": {
    "collapsed": false
   },
   "outputs": [],
   "source": [
    "models = {}\n",
    "models['lr'] = linear_model.LogisticRegression(n_jobs=-1, class_weight='balanced')\n",
    "# models['pac'] = linear_model.PassiveAggressiveClassifier(n_jobs=-1)\n",
    "# models['sgdc'] = linear_model.SGDClassifier(n_jobs=-1) #, class_weight='balanced')\n",
    "# # models['ridge'] = linear_model.RidgeClassifier(class_weight='balanced')\n",
    "# # models['svm'] = svm.SVC() # kernel='rbf', probability=True, class_weight='balanced')\n",
    "# # models['nb'] = naive_bayes.GaussianNB()\n",
    "# # models['gbc'] = ensemble.GradientBoostingClassifier()\n",
    "models['rfc'] = ensemble.RandomForestClassifier(n_jobs=-1, class_weight='balanced')\n",
    "# models['etc'] = ensemble.ExtraTreesClassifier(n_jobs=-1, class_weight='balanced')\n",
    "# models['knc'] = neighbors.KNeighborsClassifier(n_jobs=-1)"
   ]
  },
  {
   "cell_type": "markdown",
   "metadata": {
    "collapsed": false
   },
   "source": [
    "# Cross validated metrics"
   ]
  },
  {
   "cell_type": "code",
   "execution_count": 165,
   "metadata": {
    "collapsed": false
   },
   "outputs": [
    {
     "name": "stdout",
     "output_type": "stream",
     "text": [
      "---rfc\n",
      "0.480487574188\n",
      "---lr\n",
      "0.664652589315\n"
     ]
    }
   ],
   "source": [
    "for algo in models:\n",
    "    model = models[algo]\n",
    "    cv = cross_validation.StratifiedKFold(y_train, n_folds=3, shuffle=True)\n",
    "    # scoring: 'accuracy, f1, recall, roc_auc'\n",
    "    # scores = cross_validation.cross_val_score(model, X_train, y_train, cv=cv, scoring='roc_auc')\n",
    "    scores = cross_validation.cross_val_score(model, X_train, y_train, cv=cv, scoring='f1')\n",
    "    print \"---\"+algo\n",
    "    print scores.mean() # , sem(scores)"
   ]
  },
  {
   "cell_type": "markdown",
   "metadata": {},
   "source": [
    "# Classification report on test set"
   ]
  },
  {
   "cell_type": "code",
   "execution_count": 166,
   "metadata": {
    "collapsed": false
   },
   "outputs": [
    {
     "name": "stdout",
     "output_type": "stream",
     "text": [
      "----rfc\n",
      "             precision    recall  f1-score   support\n",
      "\n",
      "          0       0.99      1.00      1.00     28921\n",
      "          1       0.81      0.42      0.55       385\n",
      "\n",
      "avg / total       0.99      0.99      0.99     29306\n",
      "\n",
      "----lr\n",
      "             precision    recall  f1-score   support\n",
      "\n",
      "          0       1.00      0.99      0.99     28921\n",
      "          1       0.51      0.92      0.66       385\n",
      "\n",
      "avg / total       0.99      0.99      0.99     29306\n",
      "\n"
     ]
    }
   ],
   "source": [
    "# When making predictions, retrain the model on the whole training set\n",
    "for algo in models:\n",
    "  print \"----\"+ algo\n",
    "  model = models[algo]\n",
    "  if algo == 'gbc':\n",
    "    model.fit(X_train.todense(), y_train)\n",
    "  else:\n",
    "    model.fit(X_train, y_train)\n",
    "  preds = model.predict(X_test)\n",
    "  print metrics.classification_report(y_test, preds)"
   ]
  },
  {
   "cell_type": "markdown",
   "metadata": {},
   "source": [
    "# Learning Curve"
   ]
  },
  {
   "cell_type": "code",
   "execution_count": 167,
   "metadata": {
    "collapsed": false
   },
   "outputs": [
    {
     "name": "stdout",
     "output_type": "stream",
     "text": [
      "[learning_curve] Training set sizes: [ 7814 25398 42981 60564 78148]\n"
     ]
    },
    {
     "name": "stderr",
     "output_type": "stream",
     "text": [
      "[Parallel(n_jobs=1)]: Done  15 out of  15 | elapsed:  1.2min finished\n"
     ]
    },
    {
     "data": {
      "image/png": "[encoded data removed]",
      "text/plain": [
       "<matplotlib.figure.Figure at 0x1189cb6d0>"
      ]
     },
     "metadata": {},
     "output_type": "display_data"
    }
   ],
   "source": [
    "learning_curves(X_train, y_train, models['rfc'], scoring='f1', cv=3)"
   ]
  },
  {
   "cell_type": "code",
   "execution_count": 168,
   "metadata": {
    "collapsed": false
   },
   "outputs": [
    {
     "name": "stdout",
     "output_type": "stream",
     "text": [
      "[learning_curve] Training set sizes: [ 7814 25398 42981 60564 78148]\n"
     ]
    },
    {
     "name": "stderr",
     "output_type": "stream",
     "text": [
      "[Parallel(n_jobs=1)]: Done  15 out of  15 | elapsed:   21.2s finished\n"
     ]
    },
    {
     "data": {
      "image/png": "[encoded data removed]",
      "text/plain": [
       "<matplotlib.figure.Figure at 0x1189cda50>"
      ]
     },
     "metadata": {},
     "output_type": "display_data"
    }
   ],
   "source": [
    "learning_curves(X_train, y_train, models['lr'], scoring='f1', cv=3)"
   ]
  },
  {
   "cell_type": "code",
   "execution_count": 169,
   "metadata": {
    "collapsed": false
   },
   "outputs": [
    {
     "data": {
      "image/png": "[encoded data removed]",
      "text/plain": [
       "<matplotlib.figure.Figure at 0x1189cb350>"
      ]
     },
     "metadata": {},
     "output_type": "display_data"
    }
   ],
   "source": [
    "precision_recall_curve(models['lr'], X_test, y_test)"
   ]
  },
  {
   "cell_type": "code",
   "execution_count": 98,
   "metadata": {
    "collapsed": false
   },
   "outputs": [
    {
     "data": {
      "image/png": "[encoded data removed]",
      "text/plain": [
       "<matplotlib.figure.Figure at 0x11775db50>"
      ]
     },
     "metadata": {},
     "output_type": "display_data"
    }
   ],
   "source": [
    "roc_curve(models['lr'], X_test, y_test)"
   ]
  },
  {
   "cell_type": "markdown",
   "metadata": {},
   "source": [
    "# Feature selection"
   ]
  },
  {
   "cell_type": "code",
   "execution_count": 26,
   "metadata": {
    "collapsed": false
   },
   "outputs": [
    {
     "ename": "KeyboardInterrupt",
     "evalue": "",
     "output_type": "error",
     "traceback": [
      "\u001b[0;31m---------------------------------------------------------------------------\u001b[0m",
      "\u001b[0;31mKeyboardInterrupt\u001b[0m                         Traceback (most recent call last)",
      "\u001b[0;32m<ipython-input-26-36171c51627c>\u001b[0m in \u001b[0;36m<module>\u001b[0;34m()\u001b[0m\n\u001b[1;32m      5\u001b[0m \u001b[0;31m# rfecv.fit(X_train, y_train)\u001b[0m\u001b[0;34m\u001b[0m\u001b[0;34m\u001b[0m\u001b[0m\n\u001b[1;32m      6\u001b[0m \u001b[0mrfe\u001b[0m \u001b[0;34m=\u001b[0m \u001b[0mfeature_selection\u001b[0m\u001b[0;34m.\u001b[0m\u001b[0mRFE\u001b[0m\u001b[0;34m(\u001b[0m\u001b[0mestimator\u001b[0m \u001b[0;34m=\u001b[0m \u001b[0mmodels\u001b[0m\u001b[0;34m[\u001b[0m\u001b[0;34m'lr'\u001b[0m\u001b[0;34m]\u001b[0m\u001b[0;34m,\u001b[0m \u001b[0mstep\u001b[0m \u001b[0;34m=\u001b[0m\u001b[0;36m10\u001b[0m\u001b[0;34m)\u001b[0m\u001b[0;34m\u001b[0m\u001b[0m\n\u001b[0;32m----> 7\u001b[0;31m \u001b[0mrfe\u001b[0m\u001b[0;34m.\u001b[0m\u001b[0mfit\u001b[0m\u001b[0;34m(\u001b[0m\u001b[0mX_train\u001b[0m\u001b[0;34m,\u001b[0m \u001b[0my_train\u001b[0m\u001b[0;34m)\u001b[0m\u001b[0;34m\u001b[0m\u001b[0m\n\u001b[0m",
      "\u001b[0;32m/usr/local/lib/python2.7/site-packages/sklearn/feature_selection/rfe.pyc\u001b[0m in \u001b[0;36mfit\u001b[0;34m(self, X, y)\u001b[0m\n\u001b[1;32m    129\u001b[0m             \u001b[0mThe\u001b[0m \u001b[0mtarget\u001b[0m \u001b[0mvalues\u001b[0m\u001b[0;34m.\u001b[0m\u001b[0;34m\u001b[0m\u001b[0m\n\u001b[1;32m    130\u001b[0m         \"\"\"\n\u001b[0;32m--> 131\u001b[0;31m         \u001b[0;32mreturn\u001b[0m \u001b[0mself\u001b[0m\u001b[0;34m.\u001b[0m\u001b[0m_fit\u001b[0m\u001b[0;34m(\u001b[0m\u001b[0mX\u001b[0m\u001b[0;34m,\u001b[0m \u001b[0my\u001b[0m\u001b[0;34m)\u001b[0m\u001b[0;34m\u001b[0m\u001b[0m\n\u001b[0m\u001b[1;32m    132\u001b[0m \u001b[0;34m\u001b[0m\u001b[0m\n\u001b[1;32m    133\u001b[0m     \u001b[0;32mdef\u001b[0m \u001b[0m_fit\u001b[0m\u001b[0;34m(\u001b[0m\u001b[0mself\u001b[0m\u001b[0;34m,\u001b[0m \u001b[0mX\u001b[0m\u001b[0;34m,\u001b[0m \u001b[0my\u001b[0m\u001b[0;34m,\u001b[0m \u001b[0mstep_score\u001b[0m\u001b[0;34m=\u001b[0m\u001b[0mNone\u001b[0m\u001b[0;34m)\u001b[0m\u001b[0;34m:\u001b[0m\u001b[0;34m\u001b[0m\u001b[0m\n",
      "\u001b[0;32m/usr/local/lib/python2.7/site-packages/sklearn/feature_selection/rfe.pyc\u001b[0m in \u001b[0;36m_fit\u001b[0;34m(self, X, y, step_score)\u001b[0m\n\u001b[1;32m    172\u001b[0m                 \u001b[0;32mprint\u001b[0m\u001b[0;34m(\u001b[0m\u001b[0;34m\"Fitting estimator with %d features.\"\u001b[0m \u001b[0;34m%\u001b[0m \u001b[0mnp\u001b[0m\u001b[0;34m.\u001b[0m\u001b[0msum\u001b[0m\u001b[0;34m(\u001b[0m\u001b[0msupport_\u001b[0m\u001b[0;34m)\u001b[0m\u001b[0;34m)\u001b[0m\u001b[0;34m\u001b[0m\u001b[0m\n\u001b[1;32m    173\u001b[0m \u001b[0;34m\u001b[0m\u001b[0m\n\u001b[0;32m--> 174\u001b[0;31m             \u001b[0mestimator\u001b[0m\u001b[0;34m.\u001b[0m\u001b[0mfit\u001b[0m\u001b[0;34m(\u001b[0m\u001b[0mX\u001b[0m\u001b[0;34m[\u001b[0m\u001b[0;34m:\u001b[0m\u001b[0;34m,\u001b[0m \u001b[0mfeatures\u001b[0m\u001b[0;34m]\u001b[0m\u001b[0;34m,\u001b[0m \u001b[0my\u001b[0m\u001b[0;34m)\u001b[0m\u001b[0;34m\u001b[0m\u001b[0m\n\u001b[0m\u001b[1;32m    175\u001b[0m \u001b[0;34m\u001b[0m\u001b[0m\n\u001b[1;32m    176\u001b[0m             \u001b[0;31m# Get coefs\u001b[0m\u001b[0;34m\u001b[0m\u001b[0;34m\u001b[0m\u001b[0m\n",
      "\u001b[0;32m/usr/local/lib/python2.7/site-packages/sklearn/linear_model/logistic.pyc\u001b[0m in \u001b[0;36mfit\u001b[0;34m(self, X, y, sample_weight)\u001b[0m\n\u001b[1;32m   1152\u001b[0m                 \u001b[0mX\u001b[0m\u001b[0;34m,\u001b[0m \u001b[0my\u001b[0m\u001b[0;34m,\u001b[0m \u001b[0mself\u001b[0m\u001b[0;34m.\u001b[0m\u001b[0mC\u001b[0m\u001b[0;34m,\u001b[0m \u001b[0mself\u001b[0m\u001b[0;34m.\u001b[0m\u001b[0mfit_intercept\u001b[0m\u001b[0;34m,\u001b[0m \u001b[0mself\u001b[0m\u001b[0;34m.\u001b[0m\u001b[0mintercept_scaling\u001b[0m\u001b[0;34m,\u001b[0m\u001b[0;34m\u001b[0m\u001b[0m\n\u001b[1;32m   1153\u001b[0m                 \u001b[0mself\u001b[0m\u001b[0;34m.\u001b[0m\u001b[0mclass_weight\u001b[0m\u001b[0;34m,\u001b[0m \u001b[0mself\u001b[0m\u001b[0;34m.\u001b[0m\u001b[0mpenalty\u001b[0m\u001b[0;34m,\u001b[0m \u001b[0mself\u001b[0m\u001b[0;34m.\u001b[0m\u001b[0mdual\u001b[0m\u001b[0;34m,\u001b[0m \u001b[0mself\u001b[0m\u001b[0;34m.\u001b[0m\u001b[0mverbose\u001b[0m\u001b[0;34m,\u001b[0m\u001b[0;34m\u001b[0m\u001b[0m\n\u001b[0;32m-> 1154\u001b[0;31m                 self.max_iter, self.tol, self.random_state)\n\u001b[0m\u001b[1;32m   1155\u001b[0m             \u001b[0mself\u001b[0m\u001b[0;34m.\u001b[0m\u001b[0mn_iter_\u001b[0m \u001b[0;34m=\u001b[0m \u001b[0mnp\u001b[0m\u001b[0;34m.\u001b[0m\u001b[0marray\u001b[0m\u001b[0;34m(\u001b[0m\u001b[0;34m[\u001b[0m\u001b[0mn_iter_\u001b[0m\u001b[0;34m]\u001b[0m\u001b[0;34m)\u001b[0m\u001b[0;34m\u001b[0m\u001b[0m\n\u001b[1;32m   1156\u001b[0m             \u001b[0;32mreturn\u001b[0m \u001b[0mself\u001b[0m\u001b[0;34m\u001b[0m\u001b[0m\n",
      "\u001b[0;32m/usr/local/lib/python2.7/site-packages/sklearn/svm/base.pyc\u001b[0m in \u001b[0;36m_fit_liblinear\u001b[0;34m(X, y, C, fit_intercept, intercept_scaling, class_weight, penalty, dual, verbose, max_iter, tol, random_state, multi_class, loss, epsilon)\u001b[0m\n\u001b[1;32m    914\u001b[0m         \u001b[0mX\u001b[0m\u001b[0;34m,\u001b[0m \u001b[0my_ind\u001b[0m\u001b[0;34m,\u001b[0m \u001b[0msp\u001b[0m\u001b[0;34m.\u001b[0m\u001b[0misspmatrix\u001b[0m\u001b[0;34m(\u001b[0m\u001b[0mX\u001b[0m\u001b[0;34m)\u001b[0m\u001b[0;34m,\u001b[0m \u001b[0msolver_type\u001b[0m\u001b[0;34m,\u001b[0m \u001b[0mtol\u001b[0m\u001b[0;34m,\u001b[0m \u001b[0mbias\u001b[0m\u001b[0;34m,\u001b[0m \u001b[0mC\u001b[0m\u001b[0;34m,\u001b[0m\u001b[0;34m\u001b[0m\u001b[0m\n\u001b[1;32m    915\u001b[0m         \u001b[0mclass_weight_\u001b[0m\u001b[0;34m,\u001b[0m \u001b[0mmax_iter\u001b[0m\u001b[0;34m,\u001b[0m \u001b[0mrnd\u001b[0m\u001b[0;34m.\u001b[0m\u001b[0mrandint\u001b[0m\u001b[0;34m(\u001b[0m\u001b[0mnp\u001b[0m\u001b[0;34m.\u001b[0m\u001b[0miinfo\u001b[0m\u001b[0;34m(\u001b[0m\u001b[0;34m'i'\u001b[0m\u001b[0;34m)\u001b[0m\u001b[0;34m.\u001b[0m\u001b[0mmax\u001b[0m\u001b[0;34m)\u001b[0m\u001b[0;34m,\u001b[0m\u001b[0;34m\u001b[0m\u001b[0m\n\u001b[0;32m--> 916\u001b[0;31m         epsilon)\n\u001b[0m\u001b[1;32m    917\u001b[0m     \u001b[0;31m# Regarding rnd.randint(..) in the above signature:\u001b[0m\u001b[0;34m\u001b[0m\u001b[0;34m\u001b[0m\u001b[0m\n\u001b[1;32m    918\u001b[0m     \u001b[0;31m# seed for srand in range [0..INT_MAX); due to limitations in Numpy\u001b[0m\u001b[0;34m\u001b[0m\u001b[0;34m\u001b[0m\u001b[0m\n",
      "\u001b[0;31mKeyboardInterrupt\u001b[0m: "
     ]
    }
   ],
   "source": [
    "# rfecv = feature_selection.RFECV(\n",
    "#     estimator=models['lr'],\n",
    "#     step=1, cv=cross_validation.StratifiedKFold(y_train, 2),\n",
    "#     scoring='f1')\n",
    "# rfecv.fit(X_train, y_train)\n",
    "rfe = feature_selection.RFE(estimator = models['lr'], step =10)\n",
    "rfe.fit(X_train, y_train)"
   ]
  },
  {
   "cell_type": "code",
   "execution_count": null,
   "metadata": {
    "collapsed": true
   },
   "outputs": [],
   "source": [
    "print(\"Optimal number of features : %d\" % rfecv.n_features_)\n",
    "\n",
    "# Plot number of features VS. cross-validation scores\n",
    "plt.figure()\n",
    "plt.xlabel(\"Number of features selected\")\n",
    "plt.ylabel(\"Cross validation score (nb of correct classifications)\")\n",
    "plt.plot(range(1, len(rfecv.grid_scores_) + 1), rfecv.grid_scores_)\n",
    "plt.show()"
   ]
  },
  {
   "cell_type": "markdown",
   "metadata": {
    "collapsed": false
   },
   "source": [
    "# Hyperparameter CV optimization "
   ]
  },
  {
   "cell_type": "code",
   "execution_count": null,
   "metadata": {
    "collapsed": false
   },
   "outputs": [],
   "source": [
    "# do hyperparameter optimization on cross validation set\n",
    "#parameters = [{'n_estimators': [40, 50], 'max_features': ['auto', 'sqrt']}]\n",
    "# parameters = {\"max_depth\": [3, None],\n",
    "#               \"max_features\": sp_randint(1, 11),\n",
    "#               \"min_samples_split\": sp_randint(1, 11),\n",
    "#               \"min_samples_leaf\": sp_randint(1, 11),\n",
    "#               \"bootstrap\": [True, False],\n",
    "#               \"criterion\": [\"gini\", \"entropy\"],\n",
    "# #               'n_estimators': [20, 40, 80, 160],\n",
    "# #               'max_features': ['auto', 'sqrt']\n",
    "#              }\n",
    "\n",
    "model = model_selection(X_train,X_test,y_train,y_test,parameters,models['rfc'], scoring='f1')"
   ]
  },
  {
   "cell_type": "code",
   "execution_count": null,
   "metadata": {
    "collapsed": true
   },
   "outputs": [],
   "source": []
  }
 ],
 "metadata": {
  "kernelspec": {
   "display_name": "Python 2",
   "language": "python",
   "name": "python2"
  },
  "language_info": {
   "codemirror_mode": {
    "name": "ipython",
    "version": 2
   },
   "file_extension": ".py",
   "mimetype": "text/x-python",
   "name": "python",
   "nbconvert_exporter": "python",
   "pygments_lexer": "ipython2",
   "version": "2.7.10"
  }
 },
 "nbformat": 4,
 "nbformat_minor": 0
}
